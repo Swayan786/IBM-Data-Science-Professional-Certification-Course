{
 "cells": [
  {
   "cell_type": "code",
   "execution_count": 1,
   "id": "e002498d-e5d1-44d0-9ec7-d8b7152ad083",
   "metadata": {},
   "outputs": [
    {
     "name": "stdout",
     "output_type": "stream",
     "text": [
      "hello!\n"
     ]
    }
   ],
   "source": [
    "print(\"hello!\")"
   ]
  },
  {
   "cell_type": "code",
   "execution_count": 2,
   "id": "2f7eee97-8f91-48a7-94ab-45e093c2c329",
   "metadata": {},
   "outputs": [
    {
     "data": {
      "text/plain": [
       "'Michael Jackson'"
      ]
     },
     "execution_count": 2,
     "metadata": {},
     "output_type": "execute_result"
    }
   ],
   "source": [
    "name=\"Michael Jackson\"\n",
    "name"
   ]
  },
  {
   "cell_type": "code",
   "execution_count": 3,
   "id": "3cb029e5-3609-44b2-a004-35cbbf3e477a",
   "metadata": {},
   "outputs": [
    {
     "name": "stdout",
     "output_type": "stream",
     "text": [
      "c\n"
     ]
    }
   ],
   "source": [
    "print(name[2])"
   ]
  },
  {
   "cell_type": "code",
   "execution_count": 4,
   "id": "ac70703e-11b6-43a0-92fc-bd76f7696a05",
   "metadata": {},
   "outputs": [
    {
     "name": "stdout",
     "output_type": "stream",
     "text": [
      "l\n"
     ]
    }
   ],
   "source": [
    "print(name[6])"
   ]
  },
  {
   "cell_type": "code",
   "execution_count": 5,
   "id": "c8ebb4b0-90b9-4cb1-b13b-4c28cb84ab32",
   "metadata": {},
   "outputs": [
    {
     "name": "stdout",
     "output_type": "stream",
     "text": [
      "o\n"
     ]
    }
   ],
   "source": [
    "print(name[13])"
   ]
  },
  {
   "cell_type": "code",
   "execution_count": 6,
   "id": "fe665873-b857-457b-9a38-7c923f4ec1e9",
   "metadata": {},
   "outputs": [
    {
     "name": "stdout",
     "output_type": "stream",
     "text": [
      "n\n"
     ]
    }
   ],
   "source": [
    "print(name[-1])"
   ]
  },
  {
   "cell_type": "code",
   "execution_count": 7,
   "id": "142a99b5-8f81-4a95-8b77-456123d489e4",
   "metadata": {},
   "outputs": [
    {
     "name": "stdout",
     "output_type": "stream",
     "text": [
      "J\n"
     ]
    }
   ],
   "source": [
    "print(name[-7])"
   ]
  },
  {
   "cell_type": "code",
   "execution_count": 8,
   "id": "123288db-c9e4-409a-871b-71c8f9f01969",
   "metadata": {},
   "outputs": [
    {
     "data": {
      "text/plain": [
       "15"
      ]
     },
     "execution_count": 8,
     "metadata": {},
     "output_type": "execute_result"
    }
   ],
   "source": [
    "len(name)"
   ]
  },
  {
   "cell_type": "code",
   "execution_count": 9,
   "id": "0e6de790-e6fe-4b2f-ad60-6170cd16aa57",
   "metadata": {},
   "outputs": [
    {
     "data": {
      "text/plain": [
       "'Micha'"
      ]
     },
     "execution_count": 9,
     "metadata": {},
     "output_type": "execute_result"
    }
   ],
   "source": [
    "name[0:5]"
   ]
  },
  {
   "cell_type": "code",
   "execution_count": 13,
   "id": "56406ee0-df44-40e3-9803-b6c36b5f9796",
   "metadata": {},
   "outputs": [
    {
     "data": {
      "text/plain": [
       "'Jack'"
      ]
     },
     "execution_count": 13,
     "metadata": {},
     "output_type": "execute_result"
    }
   ],
   "source": [
    "name[8:12]"
   ]
  },
  {
   "cell_type": "code",
   "execution_count": 14,
   "id": "8917907d-0b32-44e0-9c69-d5d6efbd706b",
   "metadata": {},
   "outputs": [
    {
     "data": {
      "text/plain": [
       "'McalJcsn'"
      ]
     },
     "execution_count": 14,
     "metadata": {},
     "output_type": "execute_result"
    }
   ],
   "source": [
    "name[::2]"
   ]
  },
  {
   "cell_type": "code",
   "execution_count": 15,
   "id": "8a191a5c-530a-424a-8064-612931020738",
   "metadata": {},
   "outputs": [
    {
     "data": {
      "text/plain": [
       "'Mca'"
      ]
     },
     "execution_count": 15,
     "metadata": {},
     "output_type": "execute_result"
    }
   ],
   "source": [
    "name[0:5:2]"
   ]
  },
  {
   "cell_type": "code",
   "execution_count": 18,
   "id": "8cfcdb2c-72d4-4c18-9a68-5af948d8d353",
   "metadata": {},
   "outputs": [],
   "source": [
    "statement = name + \"is the best\""
   ]
  },
  {
   "cell_type": "code",
   "execution_count": 19,
   "id": "67a5d15c-1d47-49bd-bbe7-7bb83a284e61",
   "metadata": {},
   "outputs": [
    {
     "data": {
      "text/plain": [
       "'Michael Jacksonis the best'"
      ]
     },
     "execution_count": 19,
     "metadata": {},
     "output_type": "execute_result"
    }
   ],
   "source": [
    "statement"
   ]
  },
  {
   "cell_type": "code",
   "execution_count": 22,
   "id": "6b1b4d8d-e3a9-459c-a54a-110abb847389",
   "metadata": {},
   "outputs": [
    {
     "data": {
      "text/plain": [
       "'Michael JacksonMichael JacksonMichael Jackson'"
      ]
     },
     "execution_count": 22,
     "metadata": {},
     "output_type": "execute_result"
    }
   ],
   "source": [
    "3 * \"Michael Jackson\""
   ]
  },
  {
   "cell_type": "code",
   "execution_count": 23,
   "id": "1cc831da-b97a-49c2-95f1-e47974c2b4d2",
   "metadata": {},
   "outputs": [
    {
     "data": {
      "text/plain": [
       "'Michael Jacksonis the best'"
      ]
     },
     "execution_count": 23,
     "metadata": {},
     "output_type": "execute_result"
    }
   ],
   "source": [
    "name= \"Michael Jackson\"\n",
    "name= name + \"is the best\"\n",
    "name"
   ]
  },
  {
   "cell_type": "code",
   "execution_count": 24,
   "id": "a60c5ced-e4ad-4756-a101-0726a6d26eb5",
   "metadata": {},
   "outputs": [
    {
     "name": "stdout",
     "output_type": "stream",
     "text": [
      "Michael Jackson \n",
      " is the best \n"
     ]
    }
   ],
   "source": [
    "print(\"Michael Jackson \\n is the best \")"
   ]
  },
  {
   "cell_type": "code",
   "execution_count": 25,
   "id": "82838c96-fa7d-41d2-b6c9-da2ca2526237",
   "metadata": {},
   "outputs": [
    {
     "name": "stdout",
     "output_type": "stream",
     "text": [
      "Michael Jackson \t is the best\n"
     ]
    }
   ],
   "source": [
    "print(\"Michael Jackson \\t is the best\")"
   ]
  }
 ],
 "metadata": {
  "kernelspec": {
   "display_name": "Python",
   "language": "python",
   "name": "conda-env-python-py"
  },
  "language_info": {
   "codemirror_mode": {
    "name": "ipython",
    "version": 3
   },
   "file_extension": ".py",
   "mimetype": "text/x-python",
   "name": "python",
   "nbconvert_exporter": "python",
   "pygments_lexer": "ipython3",
   "version": "3.6.13"
  }
 },
 "nbformat": 4,
 "nbformat_minor": 5
}
